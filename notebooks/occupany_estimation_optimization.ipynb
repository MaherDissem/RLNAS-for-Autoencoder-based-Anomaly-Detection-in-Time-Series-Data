{
 "cells": [
  {
   "cell_type": "markdown",
   "metadata": {},
   "source": [
    "## I - Data resampling\n",
    "\n",
    "Resampling sensor data with a sampling rate of 30min because sensor measurements are not captured with the same sampling rate.\n",
    "\n",
    "Only keeping relevant sensors."
   ]
  },
  {
   "cell_type": "code",
   "execution_count": 1,
   "metadata": {},
   "outputs": [],
   "source": [
    "import pandas as pd\n",
    "import numpy as np \n",
    "import matplotlib.pyplot as plt"
   ]
  },
  {
   "cell_type": "code",
   "execution_count": 2,
   "metadata": {},
   "outputs": [
    {
     "data": {
      "text/html": [
       "<div>\n",
       "<style scoped>\n",
       "    .dataframe tbody tr th:only-of-type {\n",
       "        vertical-align: middle;\n",
       "    }\n",
       "\n",
       "    .dataframe tbody tr th {\n",
       "        vertical-align: top;\n",
       "    }\n",
       "\n",
       "    .dataframe thead th {\n",
       "        text-align: right;\n",
       "    }\n",
       "</style>\n",
       "<table border=\"1\" class=\"dataframe\">\n",
       "  <thead>\n",
       "    <tr style=\"text-align: right;\">\n",
       "      <th></th>\n",
       "      <th>Unnamed: 0</th>\n",
       "      <th>variableidref</th>\n",
       "      <th>epochtimeinms</th>\n",
       "      <th>value</th>\n",
       "      <th>fulldate</th>\n",
       "    </tr>\n",
       "  </thead>\n",
       "  <tbody>\n",
       "    <tr>\n",
       "      <th>1128977</th>\n",
       "      <td>1128977</td>\n",
       "      <td>19</td>\n",
       "      <td>1420066828487</td>\n",
       "      <td>30.00</td>\n",
       "      <td>01/01/2015 00:00:28</td>\n",
       "    </tr>\n",
       "    <tr>\n",
       "      <th>1856553</th>\n",
       "      <td>1856553</td>\n",
       "      <td>21</td>\n",
       "      <td>1420066828487</td>\n",
       "      <td>430.00</td>\n",
       "      <td>01/01/2015 00:00:28</td>\n",
       "    </tr>\n",
       "    <tr>\n",
       "      <th>616337</th>\n",
       "      <td>616337</td>\n",
       "      <td>11</td>\n",
       "      <td>1420066908498</td>\n",
       "      <td>16.00</td>\n",
       "      <td>01/01/2015 00:01:48</td>\n",
       "    </tr>\n",
       "    <tr>\n",
       "      <th>1856554</th>\n",
       "      <td>1856554</td>\n",
       "      <td>21</td>\n",
       "      <td>1420067151427</td>\n",
       "      <td>430.00</td>\n",
       "      <td>01/01/2015 00:05:51</td>\n",
       "    </tr>\n",
       "    <tr>\n",
       "      <th>1128978</th>\n",
       "      <td>1128978</td>\n",
       "      <td>19</td>\n",
       "      <td>1420067151427</td>\n",
       "      <td>30.00</td>\n",
       "      <td>01/01/2015 00:05:51</td>\n",
       "    </tr>\n",
       "    <tr>\n",
       "      <th>...</th>\n",
       "      <td>...</td>\n",
       "      <td>...</td>\n",
       "      <td>...</td>\n",
       "      <td>...</td>\n",
       "      <td>...</td>\n",
       "    </tr>\n",
       "    <tr>\n",
       "      <th>15517348</th>\n",
       "      <td>15517348</td>\n",
       "      <td>2</td>\n",
       "      <td>1517269012974</td>\n",
       "      <td>1.00</td>\n",
       "      <td>30/01/2018 00:36:52</td>\n",
       "    </tr>\n",
       "    <tr>\n",
       "      <th>15723038</th>\n",
       "      <td>15723038</td>\n",
       "      <td>4</td>\n",
       "      <td>1517269012974</td>\n",
       "      <td>9.88</td>\n",
       "      <td>30/01/2018 00:36:52</td>\n",
       "    </tr>\n",
       "    <tr>\n",
       "      <th>15311657</th>\n",
       "      <td>15311657</td>\n",
       "      <td>0</td>\n",
       "      <td>1517269012974</td>\n",
       "      <td>0.82</td>\n",
       "      <td>30/01/2018 00:36:52</td>\n",
       "    </tr>\n",
       "    <tr>\n",
       "      <th>15623427</th>\n",
       "      <td>15623427</td>\n",
       "      <td>3</td>\n",
       "      <td>1517269012974</td>\n",
       "      <td>0.00</td>\n",
       "      <td>30/01/2018 00:36:52</td>\n",
       "    </tr>\n",
       "    <tr>\n",
       "      <th>15411269</th>\n",
       "      <td>15411269</td>\n",
       "      <td>1</td>\n",
       "      <td>1517269012974</td>\n",
       "      <td>0.00</td>\n",
       "      <td>30/01/2018 00:36:52</td>\n",
       "    </tr>\n",
       "  </tbody>\n",
       "</table>\n",
       "<p>15866498 rows × 5 columns</p>\n",
       "</div>"
      ],
      "text/plain": [
       "          Unnamed: 0  variableidref  epochtimeinms   value  \\\n",
       "1128977      1128977             19  1420066828487   30.00   \n",
       "1856553      1856553             21  1420066828487  430.00   \n",
       "616337        616337             11  1420066908498   16.00   \n",
       "1856554      1856554             21  1420067151427  430.00   \n",
       "1128978      1128978             19  1420067151427   30.00   \n",
       "...              ...            ...            ...     ...   \n",
       "15517348    15517348              2  1517269012974    1.00   \n",
       "15723038    15723038              4  1517269012974    9.88   \n",
       "15311657    15311657              0  1517269012974    0.82   \n",
       "15623427    15623427              3  1517269012974    0.00   \n",
       "15411269    15411269              1  1517269012974    0.00   \n",
       "\n",
       "                     fulldate  \n",
       "1128977   01/01/2015 00:00:28  \n",
       "1856553   01/01/2015 00:00:28  \n",
       "616337    01/01/2015 00:01:48  \n",
       "1856554   01/01/2015 00:05:51  \n",
       "1128978   01/01/2015 00:05:51  \n",
       "...                       ...  \n",
       "15517348  30/01/2018 00:36:52  \n",
       "15723038  30/01/2018 00:36:52  \n",
       "15311657  30/01/2018 00:36:52  \n",
       "15623427  30/01/2018 00:36:52  \n",
       "15411269  30/01/2018 00:36:52  \n",
       "\n",
       "[15866498 rows x 5 columns]"
      ]
     },
     "execution_count": 2,
     "metadata": {},
     "output_type": "execute_result"
    }
   ],
   "source": [
    "df = pd.read_csv(\"../dataset/raw_h358_data.csv\")\n",
    "df = df.sort_values(by=[\"epochtimeinms\"])\n",
    "df"
   ]
  },
  {
   "cell_type": "code",
   "execution_count": 3,
   "metadata": {},
   "outputs": [],
   "source": [
    "# ['id', 'name', 'site', 'building', 'zone', 'device']\n",
    "# (14, 'OCCUPANCY', 'InpgViallet', 'INPG_Viallet', 'H358 - Professor office', 'Presence2'),\n",
    "# (19, 'HUMIDITY', 'InpgViallet', 'INPG_Viallet', 'H358 - Professor office', 'CO24'),\n",
    "# (20, 'TEMPERATURE', 'InpgViallet', 'INPG_Viallet', 'H358 - Professor office', 'CO24'),\n",
    "# (21, 'GAS_CONCENTRATION', 'InpgViallet', 'INPG_Viallet', 'H358 - Professor office', 'CO24'),\n",
    "# (22, 'POWER', 'InpgViallet', 'INPG_Viallet', 'H358 - Professor office', 'PriseGigogneEltako2'),\n",
    "\n",
    "categ_to_keep = [14, 19, 20, 21, 22]"
   ]
  },
  {
   "cell_type": "code",
   "execution_count": 4,
   "metadata": {},
   "outputs": [],
   "source": [
    "n_min = 30\n",
    "sample_interval = n_min*60*1000"
   ]
  },
  {
   "cell_type": "code",
   "execution_count": 5,
   "metadata": {},
   "outputs": [
    {
     "name": "stderr",
     "output_type": "stream",
     "text": [
      "  0%|          | 0/143814 [00:00<?, ?it/s]C:\\Users\\maher\\AppData\\Local\\Packages\\PythonSoftwareFoundation.Python.3.11_qbz5n2kfra8p0\\LocalCache\\local-packages\\Python311\\site-packages\\numpy\\core\\fromnumeric.py:3432: RuntimeWarning: Mean of empty slice.\n",
      "  return _methods._mean(a, axis=axis, dtype=dtype,\n",
      "C:\\Users\\maher\\AppData\\Local\\Packages\\PythonSoftwareFoundation.Python.3.11_qbz5n2kfra8p0\\LocalCache\\local-packages\\Python311\\site-packages\\numpy\\core\\_methods.py:190: RuntimeWarning: invalid value encountered in double_scalars\n",
      "  ret = ret.dtype.type(ret / rcount)\n",
      " 84%|████████▍ | 121133/143814 [00:04<00:00, 25601.64it/s]\n",
      " 96%|█████████▌| 1173962/1226163 [00:41<00:01, 28367.52it/s]\n",
      "1295166it [00:46, 28087.26it/s]                             \n",
      " 96%|█████████▌| 1233902/1286110 [00:49<00:02, 24684.19it/s]\n",
      " 78%|███████▊  | 242105/311925 [00:08<00:02, 27036.63it/s]\n"
     ]
    }
   ],
   "source": [
    "from tqdm import tqdm\n",
    "\n",
    "grouped_df = df.groupby(\"variableidref\")\n",
    "data = {categ:[] for categ in categ_to_keep}    \n",
    "start_t = []\n",
    "end_t = []\n",
    "\n",
    "for categ in categ_to_keep:\n",
    "    group = grouped_df.get_group(categ)\n",
    "    start_t.append(group[\"epochtimeinms\"].iloc[0])\n",
    "    end_t.append(group[\"epochtimeinms\"].iloc[-1])\n",
    "min_t = np.max(start_t)\n",
    "max_t = np.min(end_t) # all sensors data need to cover same period\n",
    "\n",
    "\n",
    "for categ in categ_to_keep:\n",
    "    sensor_data = grouped_df.get_group(categ)\n",
    "    n_measurements = sensor_data.shape[0]\n",
    "    \n",
    "    interval_end = min_t+sample_interval\n",
    "    val_buffer = []\n",
    "\n",
    "    pbar = tqdm(total=n_measurements)\n",
    "    j = 0\n",
    "    while j < n_measurements and interval_end<max_t:\n",
    "        measurement = sensor_data.iloc[j]\n",
    "        time = measurement[\"epochtimeinms\"]\n",
    "        val = measurement[\"value\"]\n",
    "        \n",
    "        if time<min_t: \n",
    "            j += 1\n",
    "            continue\n",
    "        elif time>max_t: \n",
    "            break\n",
    "\n",
    "        if time<=interval_end:\n",
    "            val_buffer.append(val)\n",
    "            j += 1 \n",
    "\n",
    "        elif time>interval_end:\n",
    "            data[categ].append(np.mean(val_buffer))\n",
    "            val_buffer = []\n",
    "            interval_end += sample_interval\n",
    "        pbar.update(1)\n",
    "    pbar.close()"
   ]
  },
  {
   "cell_type": "code",
   "execution_count": 6,
   "metadata": {},
   "outputs": [
    {
     "name": "stdout",
     "output_type": "stream",
     "text": [
      "14 30928 143814\n",
      "19 30928 1226163\n",
      "20 30928 1264322\n",
      "21 30928 1286110\n",
      "22 30928 311925\n"
     ]
    }
   ],
   "source": [
    "for categ in categ_to_keep:\n",
    "    print(categ, len(data[categ]), len(grouped_df.get_group(categ)))"
   ]
  },
  {
   "cell_type": "code",
   "execution_count": 7,
   "metadata": {},
   "outputs": [
    {
     "data": {
      "text/plain": [
       "value\n",
       "0.0    100661\n",
       "1.0     43153\n",
       "Name: count, dtype: int64"
      ]
     },
     "execution_count": 7,
     "metadata": {},
     "output_type": "execute_result"
    }
   ],
   "source": [
    "grouped_df.get_group(14)[\"value\"].value_counts() # target occupancy data is binary"
   ]
  },
  {
   "cell_type": "code",
   "execution_count": 8,
   "metadata": {},
   "outputs": [
    {
     "data": {
      "text/plain": [
       "5307"
      ]
     },
     "execution_count": 8,
     "metadata": {},
     "output_type": "execute_result"
    }
   ],
   "source": [
    "pd.Series(data[14]).isna().sum() # time periods with no data"
   ]
  },
  {
   "cell_type": "code",
   "execution_count": 9,
   "metadata": {},
   "outputs": [
    {
     "data": {
      "text/html": [
       "<div>\n",
       "<style scoped>\n",
       "    .dataframe tbody tr th:only-of-type {\n",
       "        vertical-align: middle;\n",
       "    }\n",
       "\n",
       "    .dataframe tbody tr th {\n",
       "        vertical-align: top;\n",
       "    }\n",
       "\n",
       "    .dataframe thead th {\n",
       "        text-align: right;\n",
       "    }\n",
       "</style>\n",
       "<table border=\"1\" class=\"dataframe\">\n",
       "  <thead>\n",
       "    <tr style=\"text-align: right;\">\n",
       "      <th></th>\n",
       "      <th>14</th>\n",
       "      <th>19</th>\n",
       "      <th>20</th>\n",
       "      <th>21</th>\n",
       "      <th>22</th>\n",
       "    </tr>\n",
       "  </thead>\n",
       "  <tbody>\n",
       "    <tr>\n",
       "      <th>0</th>\n",
       "      <td>0.000000</td>\n",
       "      <td>30.285714</td>\n",
       "      <td>18.800000</td>\n",
       "      <td>430.000000</td>\n",
       "      <td>0.0</td>\n",
       "    </tr>\n",
       "    <tr>\n",
       "      <th>4</th>\n",
       "      <td>0.000000</td>\n",
       "      <td>30.250000</td>\n",
       "      <td>18.700000</td>\n",
       "      <td>430.000000</td>\n",
       "      <td>0.0</td>\n",
       "    </tr>\n",
       "    <tr>\n",
       "      <th>6</th>\n",
       "      <td>0.000000</td>\n",
       "      <td>30.000000</td>\n",
       "      <td>18.727273</td>\n",
       "      <td>430.000000</td>\n",
       "      <td>0.0</td>\n",
       "    </tr>\n",
       "    <tr>\n",
       "      <th>8</th>\n",
       "      <td>0.000000</td>\n",
       "      <td>30.000000</td>\n",
       "      <td>18.672727</td>\n",
       "      <td>430.000000</td>\n",
       "      <td>0.0</td>\n",
       "    </tr>\n",
       "    <tr>\n",
       "      <th>10</th>\n",
       "      <td>0.000000</td>\n",
       "      <td>29.750000</td>\n",
       "      <td>18.600000</td>\n",
       "      <td>430.000000</td>\n",
       "      <td>0.0</td>\n",
       "    </tr>\n",
       "    <tr>\n",
       "      <th>...</th>\n",
       "      <td>...</td>\n",
       "      <td>...</td>\n",
       "      <td>...</td>\n",
       "      <td>...</td>\n",
       "      <td>...</td>\n",
       "    </tr>\n",
       "    <tr>\n",
       "      <th>30923</th>\n",
       "      <td>0.333333</td>\n",
       "      <td>41.911392</td>\n",
       "      <td>22.248101</td>\n",
       "      <td>448.481013</td>\n",
       "      <td>0.0</td>\n",
       "    </tr>\n",
       "    <tr>\n",
       "      <th>30924</th>\n",
       "      <td>0.000000</td>\n",
       "      <td>40.925000</td>\n",
       "      <td>22.397500</td>\n",
       "      <td>444.375000</td>\n",
       "      <td>0.0</td>\n",
       "    </tr>\n",
       "    <tr>\n",
       "      <th>30925</th>\n",
       "      <td>0.000000</td>\n",
       "      <td>36.716049</td>\n",
       "      <td>22.503704</td>\n",
       "      <td>448.641975</td>\n",
       "      <td>0.0</td>\n",
       "    </tr>\n",
       "    <tr>\n",
       "      <th>30926</th>\n",
       "      <td>0.000000</td>\n",
       "      <td>35.950000</td>\n",
       "      <td>22.397500</td>\n",
       "      <td>493.500000</td>\n",
       "      <td>0.0</td>\n",
       "    </tr>\n",
       "    <tr>\n",
       "      <th>30927</th>\n",
       "      <td>0.437500</td>\n",
       "      <td>36.037500</td>\n",
       "      <td>22.290000</td>\n",
       "      <td>605.250000</td>\n",
       "      <td>0.0</td>\n",
       "    </tr>\n",
       "  </tbody>\n",
       "</table>\n",
       "<p>24510 rows × 5 columns</p>\n",
       "</div>"
      ],
      "text/plain": [
       "             14         19         20          21   22\n",
       "0      0.000000  30.285714  18.800000  430.000000  0.0\n",
       "4      0.000000  30.250000  18.700000  430.000000  0.0\n",
       "6      0.000000  30.000000  18.727273  430.000000  0.0\n",
       "8      0.000000  30.000000  18.672727  430.000000  0.0\n",
       "10     0.000000  29.750000  18.600000  430.000000  0.0\n",
       "...         ...        ...        ...         ...  ...\n",
       "30923  0.333333  41.911392  22.248101  448.481013  0.0\n",
       "30924  0.000000  40.925000  22.397500  444.375000  0.0\n",
       "30925  0.000000  36.716049  22.503704  448.641975  0.0\n",
       "30926  0.000000  35.950000  22.397500  493.500000  0.0\n",
       "30927  0.437500  36.037500  22.290000  605.250000  0.0\n",
       "\n",
       "[24510 rows x 5 columns]"
      ]
     },
     "execution_count": 9,
     "metadata": {},
     "output_type": "execute_result"
    }
   ],
   "source": [
    "df = pd.DataFrame(data)\n",
    "df.dropna(inplace=True)\n",
    "df"
   ]
  },
  {
   "cell_type": "code",
   "execution_count": 10,
   "metadata": {},
   "outputs": [
    {
     "data": {
      "image/png": "[encoded data removed]",
      "text/plain": [
       "<Figure size 640x480 with 1 Axes>"
      ]
     },
     "metadata": {},
     "output_type": "display_data"
    }
   ],
   "source": [
    "plt.plot(df[20][1500:1600])\n",
    "plt.title(\"Temperature data sample\")\n",
    "plt.show()"
   ]
  },
  {
   "cell_type": "code",
   "execution_count": 11,
   "metadata": {},
   "outputs": [],
   "source": [
    "df.to_csv(\"../dataset/data_for_occupancy_estimation.csv\")"
   ]
  },
  {
   "cell_type": "markdown",
   "metadata": {},
   "source": [
    "# II - Optimizing Occupancy Estimation through Anomaly Detection\n",
    "\n",
    "Comparing the performance of a Perceptron model for occupancy estimation trained on anomaly-free data, contaminated data and contaminated data cleaned with our anomaly detector"
   ]
  },
  {
   "cell_type": "markdown",
   "metadata": {},
   "source": [
    "### 1 - Clean data"
   ]
  },
  {
   "cell_type": "code",
   "execution_count": 12,
   "metadata": {},
   "outputs": [],
   "source": [
    "from sklearn.model_selection import train_test_split\n",
    "\n",
    "y = df[14]\n",
    "\n",
    "# because of resampling and averaging, some values are not binary\n",
    "y_thres  = 0.1 \n",
    "y[y <= y_thres] = 0\n",
    "y[y > y_thres] = 1\n",
    "\n",
    "X = df.drop(14, axis=1)\n",
    "X = X.drop(21, axis=1)\n",
    "\n",
    "X_train, X_test, y_train, y_test = train_test_split(X, y, test_size=0.2, random_state=42, shuffle=False)\n"
   ]
  },
  {
   "cell_type": "code",
   "execution_count": 13,
   "metadata": {},
   "outputs": [
    {
     "name": "stdout",
     "output_type": "stream",
     "text": [
      "DecisionTreeClassifier()\n",
      "Accuracy: 0.7325581395348837\n",
      "F1_score: 0.48406139315230223\n",
      "Precision: 0.3996101364522417\n",
      "Recall: 0.6137724550898204\n",
      "\n",
      "\n",
      "RandomForestClassifier()\n",
      "Accuracy: 0.8043655650754794\n",
      "F1_score: 0.5439847836424155\n",
      "Precision: 0.51952770208901\n",
      "Recall: 0.5708582834331337\n",
      "\n",
      "\n",
      "GaussianNB()\n",
      "Accuracy: 0.795593635250918\n",
      "F1_score: 0.0\n",
      "Precision: 0.0\n",
      "Recall: 0.0\n",
      "\n",
      "\n",
      "KNeighborsClassifier()\n",
      "Accuracy: 0.8178294573643411\n",
      "F1_score: 0.5537231384307847\n",
      "Precision: 0.5545545545545546\n",
      "Recall: 0.5528942115768463\n",
      "\n",
      "\n",
      "Perceptron()\n",
      "Accuracy: 0.8847409220726234\n",
      "F1_score: 0.6439823566477632\n",
      "Precision: 0.8735042735042735\n",
      "Recall: 0.5099800399201597\n",
      "\n",
      "\n"
     ]
    },
    {
     "name": "stderr",
     "output_type": "stream",
     "text": [
      "C:\\Users\\maher\\AppData\\Local\\Packages\\PythonSoftwareFoundation.Python.3.11_qbz5n2kfra8p0\\LocalCache\\local-packages\\Python311\\site-packages\\sklearn\\metrics\\_classification.py:1344: UndefinedMetricWarning: Precision is ill-defined and being set to 0.0 due to no predicted samples. Use `zero_division` parameter to control this behavior.\n",
      "  _warn_prf(average, modifier, msg_start, len(result))\n"
     ]
    }
   ],
   "source": [
    "from sklearn.metrics import accuracy_score\n",
    "from sklearn.metrics import f1_score\n",
    "from sklearn.metrics import precision_score\n",
    "from sklearn.metrics import recall_score\n",
    "\n",
    "from sklearn.tree import DecisionTreeClassifier\n",
    "from sklearn.ensemble import RandomForestClassifier\n",
    "from sklearn.naive_bayes import GaussianNB\n",
    "from sklearn.neighbors import KNeighborsClassifier\n",
    "from sklearn.linear_model import Perceptron\n",
    "\n",
    "for classifier in [DecisionTreeClassifier(), RandomForestClassifier(), GaussianNB(), KNeighborsClassifier(), Perceptron()]:\n",
    "    print(classifier)\n",
    "\n",
    "    # Fit the model to the training data\n",
    "    classifier.fit(X_train, y_train)\n",
    "\n",
    "    # Make predictions on the test set\n",
    "    y_pred = classifier.predict(X_test)\n",
    "\n",
    "    # Calculate the accuracy of the model\n",
    "    accuracy = accuracy_score(y_test, y_pred)\n",
    "    f1score = f1_score(y_test, y_pred)\n",
    "    precision = precision_score(y_test, y_pred)\n",
    "    recall = recall_score(y_test, y_pred)\n",
    "\n",
    "    # Print results\n",
    "    print(\"Accuracy:\", accuracy)\n",
    "    print(\"F1_score:\", f1score)\n",
    "    print(\"Precision:\", precision)\n",
    "    print(\"Recall:\", recall)\n",
    "    print(\"\\n\")"
   ]
  },
  {
   "cell_type": "markdown",
   "metadata": {},
   "source": [
    "We will use the perceptron as it yields the best performance"
   ]
  },
  {
   "cell_type": "markdown",
   "metadata": {},
   "source": [
    "### 2 - Contaminated data"
   ]
  },
  {
   "cell_type": "code",
   "execution_count": 14,
   "metadata": {},
   "outputs": [],
   "source": [
    "# generate anomalies for \"data_for_occupancy_estimation.csv\" using "
   ]
  },
  {
   "cell_type": "code",
   "execution_count": 15,
   "metadata": {},
   "outputs": [],
   "source": [
    "loc_anom = pd.read_csv(\"../dataset/gen_anomalies/locOuts_data_for_occupancy_estimation.csv\")\n",
    "glob_anom = pd.read_csv(\"../dataset/gen_anomalies/gloOuts_data_for_occupancy_estimation.csv\")"
   ]
  },
  {
   "cell_type": "code",
   "execution_count": 16,
   "metadata": {},
   "outputs": [
    {
     "data": {
      "text/html": [
       "<div>\n",
       "<style scoped>\n",
       "    .dataframe tbody tr th:only-of-type {\n",
       "        vertical-align: middle;\n",
       "    }\n",
       "\n",
       "    .dataframe tbody tr th {\n",
       "        vertical-align: top;\n",
       "    }\n",
       "\n",
       "    .dataframe thead th {\n",
       "        text-align: right;\n",
       "    }\n",
       "</style>\n",
       "<table border=\"1\" class=\"dataframe\">\n",
       "  <thead>\n",
       "    <tr style=\"text-align: right;\">\n",
       "      <th></th>\n",
       "      <th>19</th>\n",
       "      <th>20</th>\n",
       "      <th>22</th>\n",
       "    </tr>\n",
       "  </thead>\n",
       "  <tbody>\n",
       "    <tr>\n",
       "      <th>0</th>\n",
       "      <td>61.777553</td>\n",
       "      <td>44.058458</td>\n",
       "      <td>237213.447085</td>\n",
       "    </tr>\n",
       "    <tr>\n",
       "      <th>1</th>\n",
       "      <td>81.858598</td>\n",
       "      <td>33.124689</td>\n",
       "      <td>276871.187080</td>\n",
       "    </tr>\n",
       "    <tr>\n",
       "      <th>2</th>\n",
       "      <td>105.325629</td>\n",
       "      <td>33.360760</td>\n",
       "      <td>55290.665322</td>\n",
       "    </tr>\n",
       "    <tr>\n",
       "      <th>3</th>\n",
       "      <td>72.906016</td>\n",
       "      <td>34.953564</td>\n",
       "      <td>201804.952162</td>\n",
       "    </tr>\n",
       "    <tr>\n",
       "      <th>4</th>\n",
       "      <td>88.985557</td>\n",
       "      <td>42.606510</td>\n",
       "      <td>282991.112931</td>\n",
       "    </tr>\n",
       "    <tr>\n",
       "      <th>...</th>\n",
       "      <td>...</td>\n",
       "      <td>...</td>\n",
       "      <td>...</td>\n",
       "    </tr>\n",
       "    <tr>\n",
       "      <th>14995</th>\n",
       "      <td>46.930992</td>\n",
       "      <td>22.563051</td>\n",
       "      <td>268467.419080</td>\n",
       "    </tr>\n",
       "    <tr>\n",
       "      <th>14996</th>\n",
       "      <td>85.633870</td>\n",
       "      <td>59.209121</td>\n",
       "      <td>119244.116550</td>\n",
       "    </tr>\n",
       "    <tr>\n",
       "      <th>14997</th>\n",
       "      <td>45.193067</td>\n",
       "      <td>41.959668</td>\n",
       "      <td>25092.842870</td>\n",
       "    </tr>\n",
       "    <tr>\n",
       "      <th>14998</th>\n",
       "      <td>63.183851</td>\n",
       "      <td>28.748758</td>\n",
       "      <td>256723.205828</td>\n",
       "    </tr>\n",
       "    <tr>\n",
       "      <th>14999</th>\n",
       "      <td>54.525062</td>\n",
       "      <td>35.008138</td>\n",
       "      <td>275676.586174</td>\n",
       "    </tr>\n",
       "  </tbody>\n",
       "</table>\n",
       "<p>15000 rows × 3 columns</p>\n",
       "</div>"
      ],
      "text/plain": [
       "               19         20             22\n",
       "0       61.777553  44.058458  237213.447085\n",
       "1       81.858598  33.124689  276871.187080\n",
       "2      105.325629  33.360760   55290.665322\n",
       "3       72.906016  34.953564  201804.952162\n",
       "4       88.985557  42.606510  282991.112931\n",
       "...           ...        ...            ...\n",
       "14995   46.930992  22.563051  268467.419080\n",
       "14996   85.633870  59.209121  119244.116550\n",
       "14997   45.193067  41.959668   25092.842870\n",
       "14998   63.183851  28.748758  256723.205828\n",
       "14999   54.525062  35.008138  275676.586174\n",
       "\n",
       "[15000 rows x 3 columns]"
      ]
     },
     "execution_count": 16,
     "metadata": {},
     "output_type": "execute_result"
    }
   ],
   "source": [
    "anom_df = pd.concat([loc_anom, glob_anom], axis=0)\n",
    "anom_df = glob_anom + loc_anom\n",
    "\n",
    "anom_df.drop('label', axis=1, inplace=True)\n",
    "anom_df.drop('Unnamed: 0', axis=1, inplace=True)\n",
    "anom_df.drop('14', axis=1, inplace=True)\n",
    "anom = anom_df.drop(\"21\", axis=1)\n",
    "anom"
   ]
  },
  {
   "cell_type": "code",
   "execution_count": 17,
   "metadata": {},
   "outputs": [],
   "source": [
    "import random\n",
    "\n",
    "seed = 19\n",
    "random.seed(seed)\n",
    "np.random.seed(seed)\n",
    "\n",
    "contam_r = 0.05 # contamination rate\n",
    "n_samples = len(y_train)*contam_r\n",
    "x_train_contam = X_train.copy()\n",
    "\n",
    "synth_anom_idx = set()\n",
    "for _ in range(int(n_samples)):\n",
    "    i = random.randint(0, len(y_train)-1) # anomaly idx in time serie\n",
    "    while i in synth_anom_idx:\n",
    "        i = random.randint(0, len(y_train)-1)\n",
    "    synth_anom_idx.add(i)\n",
    "    j = random.randint(0, len(anom_df)-1) # synthesized anomaly idx\n",
    "    k = random.randint(0, 2) # sensor that contains the anomaly\n",
    "    x_train_contam.iloc[i].values[k] = anom.iloc[j][k] # use single feat anom instead"
   ]
  },
  {
   "cell_type": "code",
   "execution_count": 18,
   "metadata": {},
   "outputs": [
    {
     "name": "stdout",
     "output_type": "stream",
     "text": [
      "Accuracy: 0.6491228070175439\n",
      "F1_score: 0.4601381042059008\n",
      "Precision: 0.3356227106227106\n",
      "Recall: 0.7315369261477046\n"
     ]
    }
   ],
   "source": [
    "# Fit the model to the contaminated training data\n",
    "classifier.fit(x_train_contam, y_train)\n",
    "\n",
    "# Make predictions on the test set\n",
    "y_pred = classifier.predict(X_test)\n",
    "y_pred_contam = y_pred.copy()\n",
    "# Calculate the accuracy of the model\n",
    "accuracy = accuracy_score(y_test, y_pred)\n",
    "f1score = f1_score(y_test, y_pred)\n",
    "precision = precision_score(y_test, y_pred)\n",
    "recall = recall_score(y_test, y_pred)\n",
    "\n",
    "# Print results\n",
    "print(\"Accuracy:\", accuracy)\n",
    "print(\"F1_score:\", f1score)\n",
    "print(\"Precision:\", precision)\n",
    "print(\"Recall:\", recall)"
   ]
  },
  {
   "cell_type": "markdown",
   "metadata": {},
   "source": [
    "### 3 - Filtered contaminated data"
   ]
  },
  {
   "cell_type": "markdown",
   "metadata": {},
   "source": [
    "Generating different univariate data to run the RLNAS framework on and find an adequate anomaly detection architecture"
   ]
  },
  {
   "cell_type": "code",
   "execution_count": 19,
   "metadata": {},
   "outputs": [
    {
     "name": "stdout",
     "output_type": "stream",
     "text": [
      "19\n",
      "1569\n",
      "382\n",
      "20\n",
      "1569\n",
      "382\n",
      "22\n",
      "1569\n",
      "382\n"
     ]
    }
   ],
   "source": [
    "# create anomaly free train, contaminated test from x_train to run RLNAS\n",
    "\n",
    "categ_to_keep = [19, 20, 22]\n",
    "for categ in categ_to_keep:\n",
    "    feat = X_train[categ].copy() # anomaly free data\n",
    "    anom_feat = anom[f\"{categ}\"]\n",
    "    print(categ)\n",
    "\n",
    "    window_size = 100\n",
    "    step = 10 \n",
    "\n",
    "    lb = 0\n",
    "    hb = window_size\n",
    "    train_size = len(feat)/window_size*window_size/step*0.8\n",
    "\n",
    "    train_out = []\n",
    "    train_gt = []\n",
    "    test_out = []\n",
    "    test_gt = []\n",
    "\n",
    "    i = 0\n",
    "    while hb<len(feat):\n",
    "        normal_sample = feat[lb:hb]\n",
    "        \n",
    "        if i<train_size:\n",
    "            train_out.append(normal_sample.values)\n",
    "            train_gt.append(0)\n",
    "\n",
    "        else:\n",
    "            # test data\n",
    "            normal_sample = feat[lb:hb]\n",
    "            r = random.random()\n",
    "            if r<0.2:\n",
    "                ts = normal_sample.copy()\n",
    "                anom_t = random.randint(int(0.25*window_size), int(0.75*window_size))\n",
    "\n",
    "                id = random.randint(0, len(anom_feat)-1)\n",
    "                ts.values[anom_t] = anom_feat.values[id]\n",
    "                while not np.abs(ts.mean()-anom_feat.values[id])>0.5:\n",
    "                    ts = normal_sample.copy()\n",
    "                    id = random.randint(0, len(anom_feat))\n",
    "                    ts.values[anom_t] = anom_feat.values[id]\n",
    "\n",
    "                test_out.append(ts.values)\n",
    "                test_gt.append(1)\n",
    "                \n",
    "            else:\n",
    "                test_out.append(normal_sample.values)\n",
    "                test_gt.append(0)\n",
    "\n",
    "        lb += step \n",
    "        hb += step \n",
    "        i += 1\n",
    "\n",
    "    train_out_df = pd.DataFrame(train_out)\n",
    "    train_out_df[\"gt\"] = train_gt\n",
    "    train_out_df.to_csv(f\"../dataset/synth_ts_data/train_{categ}.csv\", index=False)\n",
    "\n",
    "    test_out_df = pd.DataFrame(test_out)\n",
    "    test_out_df[\"gt\"] = test_gt\n",
    "    test_out_df.to_csv(f\"../dataset/synth_ts_data/test_{categ}.csv\", index=False)\n",
    "\n",
    "    print(len(train_gt))\n",
    "    print(len(test_gt))\n",
    "    "
   ]
  },
  {
   "cell_type": "code",
   "execution_count": 20,
   "metadata": {},
   "outputs": [],
   "source": [
    "# run RLNAS to find autoencoder architecture for each sensor"
   ]
  },
  {
   "cell_type": "markdown",
   "metadata": {},
   "source": [
    "Infering the top discovered Autoencoders to filter anomalies from contaminated X_train data"
   ]
  },
  {
   "cell_type": "markdown",
   "metadata": {},
   "source": [
    "Our method detects that an anomaly exists in a 100 data point sequence, but not the exact anomalous poin. tHowever we need to filter a single data point, otherwise (filtering all detected sequences of size 100), we end up with too few data points. Hence, we a single-point anoamly as the datapoint for which the reconstruction distance is the greatest."
   ]
  },
  {
   "cell_type": "code",
   "execution_count": 21,
   "metadata": {},
   "outputs": [],
   "source": [
    "import sys\n",
    "sys.path.append(\"C:\\\\Users\\\\maher\\\\RLNAS-for-Anomaly-Detection-in-Time-Series-using-Autoencoders\") # temporarily fix imports\n",
    "from models.autoencoder import AE\n",
    "import torch\n",
    "import torch.nn as nn\n",
    "device = 'cuda' if torch.cuda.is_available() else 'cpu'\n",
    "\n",
    "\n",
    "class trained_model():\n",
    "    \"\"\"Load trained model and infer on input sequence\"\"\"\n",
    "    \n",
    "    def __init__(self, arch, loss_threshold, save_path):\n",
    "        self.loaded_model = AE(arch).to(device)\n",
    "        self.loaded_model.load_state_dict(torch.load(save_path))\n",
    "        self.loaded_model.eval() \n",
    "        self.loss_threshold = loss_threshold\n",
    "        self.criterion = nn.MSELoss(reduction='mean')\n",
    "\n",
    "    def infer_model(self, input_sequence):\n",
    "        sequence = torch.tensor(input_sequence).reshape(1, 1, 100).to(device, dtype=torch.float32)\n",
    "        original_ts = sequence\n",
    "        reconstructed_ts = self.loaded_model(original_ts)\n",
    "        # loss = self.criterion(original_ts, reconstructed_ts)\n",
    "        loss = torch.max(torch.abs(original_ts - reconstructed_ts))\n",
    "        max_diff_idx = torch.argmax((original_ts-reconstructed_ts).abs())\n",
    "        return max_diff_idx, loss>=self.loss_threshold\n",
    "\n",
    "\n",
    "model_19 = trained_model(arch=[0, 0, 2, 1, 1, 0, 0, 0, 0, 0, 1, 1], loss_threshold=12.129, save_path=\"../weights/19_[0, 0, 2, 1, 1, 0, 0, 0, 0, 0, 1, 1]_12.129.pt\")\n",
    "model_20 = trained_model(arch=[1, 0, 2, 0, 1, 0, 2, 1, 2, 0, 1, 1], loss_threshold=3.9416, save_path=\"../weights/20_[1, 0, 2, 0, 1, 0, 2, 1, 2, 0, 1, 1]_3.9416.pt\")\n",
    "model_22 = trained_model(arch=[1, 1, 1, 1, 1, 0, 0, 0, 0, 1, 1, 3], loss_threshold=56.601, save_path=\"../weights/22_[1, 1, 1, 1, 1, 0, 0, 0, 0, 1, 1, 3]_56.601.pt\")\n"
   ]
  },
  {
   "cell_type": "code",
   "execution_count": 22,
   "metadata": {},
   "outputs": [],
   "source": [
    "x_train_contam_clean = x_train_contam.copy()\n",
    "x_train_contam_clean.reset_index(inplace=True)\n",
    "x_train_contam_clean.drop('index', axis=1, inplace=True)\n",
    "\n",
    "y_train_contam_clean = y_train.copy()\n",
    "y_train_contam_clean = y_train_contam_clean.reset_index()\n",
    "y_train_contam_clean.drop('index', axis=1, inplace=True)\n",
    "y_train_contam_clean = y_train_contam_clean[14]"
   ]
  },
  {
   "cell_type": "code",
   "execution_count": 23,
   "metadata": {},
   "outputs": [
    {
     "data": {
      "text/plain": [
       "578"
      ]
     },
     "execution_count": 23,
     "metadata": {},
     "output_type": "execute_result"
    }
   ],
   "source": [
    "contam_feat_19 = x_train_contam_clean[19]\n",
    "contam_feat_20 = x_train_contam_clean[20]\n",
    "contam_feat_22 = x_train_contam_clean[22]\n",
    "\n",
    "detected_anom_idxs = []\n",
    "window_size = 100\n",
    "step = 50 \n",
    "lb = 0\n",
    "hb = window_size\n",
    "\n",
    "while hb<len(contam_feat_19):\n",
    "    sample_19 = contam_feat_19[lb:hb]\n",
    "    sample_20 = contam_feat_20[lb:hb]\n",
    "    sample_22 = contam_feat_22[lb:hb]\n",
    "\n",
    "    anom_idx_19, is_anom_19 = model_19.infer_model(sample_19.values)\n",
    "    anom_idx_20, is_anom_20 = model_20.infer_model(sample_20.values)\n",
    "    anom_idx_22, is_anom_22 = model_22.infer_model(sample_22.values)\n",
    "\n",
    "    if is_anom_19: detected_anom_idxs.append(lb + anom_idx_19.item())\n",
    "    if is_anom_20: detected_anom_idxs.append(lb + anom_idx_20.item())\n",
    "    if is_anom_22: detected_anom_idxs.append(lb + anom_idx_22.item())\n",
    "\n",
    "    lb += step \n",
    "    hb += step \n",
    "    \n",
    "detected_anom_idxs = set(detected_anom_idxs) # repeating idxs because of time window stride and multiple sensors anomalies at same time\n",
    "\n",
    "tp = 0\n",
    "for gt_anom in synth_anom_idx:\n",
    "    if gt_anom in detected_anom_idxs:\n",
    "        tp += 1\n",
    "tp"
   ]
  },
  {
   "cell_type": "code",
   "execution_count": 24,
   "metadata": {},
   "outputs": [
    {
     "name": "stdout",
     "output_type": "stream",
     "text": [
      "TP=578, FP= 191\n",
      "Total real anomalies: 980\n"
     ]
    }
   ],
   "source": [
    "print(f\"TP={tp}, FP= {len(detected_anom_idxs)-tp}\")\n",
    "print(f\"Total real anomalies: {len(synth_anom_idx)}\")"
   ]
  },
  {
   "cell_type": "code",
   "execution_count": 25,
   "metadata": {},
   "outputs": [],
   "source": [
    "# removing detected anomalies (both TP and FP)\n",
    "for detect_anom in detected_anom_idxs:\n",
    "    x_train_contam_clean = x_train_contam_clean.drop(detect_anom)\n",
    "    y_train_contam_clean = y_train_contam_clean.drop(detect_anom)"
   ]
  },
  {
   "cell_type": "markdown",
   "metadata": {},
   "source": [
    "Performance of the Occupancy Estimation model trained on the filtered data"
   ]
  },
  {
   "cell_type": "code",
   "execution_count": 26,
   "metadata": {},
   "outputs": [
    {
     "name": "stdout",
     "output_type": "stream",
     "text": [
      "Accuracy: 0.8843329253365974\n",
      "F1_score: 0.646288209606987\n",
      "Precision: 0.8618968386023295\n",
      "Recall: 0.5169660678642715\n"
     ]
    }
   ],
   "source": [
    "# Fit the model to the training data\n",
    "classifier.fit(x_train_contam_clean, y_train_contam_clean)\n",
    "\n",
    "# Make predictions on the test set\n",
    "y_pred = classifier.predict(X_test)\n",
    "\n",
    "# Calculate the accuracy of the model\n",
    "accuracy = accuracy_score(y_test, y_pred)\n",
    "f1score = f1_score(y_test, y_pred)\n",
    "precision = precision_score(y_test, y_pred)\n",
    "recall = recall_score(y_test, y_pred)\n",
    "\n",
    "# Print results\n",
    "print(\"Accuracy:\", accuracy)\n",
    "print(\"F1_score:\", f1score)\n",
    "print(\"Precision:\", precision)\n",
    "print(\"Recall:\", recall)\n"
   ]
  }
 ],
 "metadata": {
  "kernelspec": {
   "display_name": "Python 3",
   "language": "python",
   "name": "python3"
  },
  "language_info": {
   "codemirror_mode": {
    "name": "ipython",
    "version": 3
   },
   "file_extension": ".py",
   "mimetype": "text/x-python",
   "name": "python",
   "nbconvert_exporter": "python",
   "pygments_lexer": "ipython3",
   "version": "3.11.6"
  },
  "orig_nbformat": 4
 },
 "nbformat": 4,
 "nbformat_minor": 2
}
